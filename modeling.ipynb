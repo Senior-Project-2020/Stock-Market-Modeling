{
 "cells": [
  {
   "cell_type": "markdown",
   "metadata": {},
   "source": [
    "# Machine Learning for Stock Market Closing Price Prediction\n",
    "\n",
    "This notebook will serve as documentation of different approaches, data generation methodologies, and testing methodologies. The original plan for exploring models will be as follows\n",
    "\n",
    "\n",
    "## Data generation\n",
    "In this folder there is a script called `Yahoo_Finance_Data_Scrapper.py`. This script does what the title says by scrapping data from yahoo finance to gather .csv files for all of the stocks from the S&P 500 for all of the times available. I chose this approach to get stock data since there is no public dataset for stocks that includes the March 2020 Stock Market crash in response to Covid-19 (as of June 1st 2020) and this seems like an important event to be able to train/test on. \n",
    "\n",
    "There will be news article sentimate analysis and feature generation with as well but this needs to be planned more and for the time being we will call it TBD.\n",
    "\n",
    "\n",
    "## Models\n",
    "There are multiple options to explore when talking about modeling approaches. We will first implement a simple moving average to use as a baseline to compare the other models to. I plan on trying to solve this problem with both regression and classifications. For regression approaches we will try a sliding window CNN, an RNN, and an LSTM. The way in which we add in news data and sentimate analysis is to explore further in the future. In terms of classification we will use the same 3 models but instead of feeding into one output node it will feed into a softmax layer of size 3 or of size 5. We will explore how these behavior with different threshold values for increasing and decreasing for each class. This may be less exact but could give the model an advantage in not having to be as exact with the amount of increase or decrease.\n",
    "\n",
    "\n",
    "## Testing Methodolgies\n",
    "As stated previously we will use a simple moving average as a baseline model to make sure our models are performing in some way that can generalize the market behavior. Our goal is that when we integrate the model with the automated trading system that it will be able to use these predictions to out perform the market in return. We will be unable to test that without the automated trading system in place so for when we are modeling we will try to minimize error using R^2 Error, Mean Squared Error, and other error terms to evaluate model performance."
   ]
  },
  {
   "cell_type": "code",
   "execution_count": null,
   "metadata": {},
   "outputs": [],
   "source": []
  }
 ],
 "metadata": {
  "language_info": {
   "codemirror_mode": {
    "name": "ipython",
    "version": 3
   },
   "file_extension": ".py",
   "mimetype": "text/x-python",
   "name": "python",
   "nbconvert_exporter": "python",
   "pygments_lexer": "ipython3",
   "version": 3
  },
  "orig_nbformat": 2
 },
 "nbformat": 4,
 "nbformat_minor": 2
}